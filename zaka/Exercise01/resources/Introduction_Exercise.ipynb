{
 "cells": [
  {
   "cell_type": "code",
   "execution_count": 1,
   "id": "de6a53ddbbe01a73",
   "metadata": {
    "ExecuteTime": {
     "end_time": "2025-04-04T07:23:00.566326Z",
     "start_time": "2025-04-04T07:23:00.192899Z"
    }
   },
   "outputs": [],
   "source": [
    "import matplotlib.pyplot as plt\n",
    "import numpy as np\n",
    "from math import sqrt, exp, log\n",
    "from typing import Callable"
   ]
  },
  {
   "cell_type": "markdown",
   "id": "2f9f88503f3c2df4",
   "metadata": {},
   "source": [
    "# Exercise 1\n",
    "### Generalisation Bound: $4m_H(2N) e^{-\\epsilon^2 N / 8}$\n",
    "### a) Complete generalisation_bound() by converting the function into code\n",
    "### b) Plot the generalisation bound that you got acquainted with in the lecture by inserting a fitting growth function."
   ]
  },
  {
   "cell_type": "code",
   "execution_count": 2,
   "id": "f707ef77c5d016c2",
   "metadata": {
    "ExecuteTime": {
     "end_time": "2025-04-04T07:23:00.574937Z",
     "start_time": "2025-04-04T07:23:00.571120Z"
    }
   },
   "outputs": [],
   "source": [
    "def generalisation_bound(growth_function : Callable[[int],int], accuracy : float = 0.01, n : int = 2000000):\n",
    "    plots = np.empty((0,))\n",
    "    i = 1\n",
    "    while i < n:\n",
    "        i = i + 1000\n",
    "        plots = np.append(plots, 4*growth_function(2*i)*exp((-accuracy*accuracy)*i/8))\n",
    "    return normalize(plots)\n",
    "\n",
    "def normalize(arr):\n",
    "    return (arr - np.min(arr)) / (np.max(arr) - np.min(arr))"
   ]
  },
  {
   "cell_type": "code",
   "execution_count": 3,
   "id": "85fa35261e941f0c",
   "metadata": {
    "ExecuteTime": {
     "end_time": "2025-04-04T07:23:00.584026Z",
     "start_time": "2025-04-04T07:19:02.628204Z"
    }
   },
   "outputs": [],
   "source": [
    "def growth_function(n : int) -> int:\n",
    "    return n+1"
   ]
  },
  {
   "cell_type": "code",
   "execution_count": null,
   "id": "9f33a0b9db625cc0",
   "metadata": {},
   "outputs": [
    {
     "data": {
      "image/png": "[encoded data removed]",
      "text/plain": [
       "<Figure size 640x480 with 1 Axes>"
      ]
     },
     "metadata": {},
     "output_type": "display_data"
    }
   ],
   "source": [
    "### PLOT Code\n",
    "plt.plot(generalisation_bound(growth_function))\n",
    "plt.xlabel(\"Sample Size\")\n",
    "plt.ylabel(\"Bound\")\n",
    "plt.show()"
   ]
  },
  {
   "cell_type": "markdown",
   "id": "838b806879050908",
   "metadata": {},
   "source": [
    "# Exercise 2\n",
    "### You are given 2 different models: A regression model and a classifier model."
   ]
  },
  {
   "cell_type": "markdown",
   "id": "9299f2cc3917f8df",
   "metadata": {},
   "source": [
    "### a) Run the models with increasingly larger test samples. (N=100 -> N=1000 -> N=100000 -> no limit)"
   ]
  },
  {
   "cell_type": "code",
   "execution_count": 5,
   "id": "49248031eb354d9b",
   "metadata": {
    "ExecuteTime": {
     "end_time": "2025-04-04T07:23:00.587076Z",
     "start_time": "2025-04-04T07:19:06.317317Z"
    }
   },
   "outputs": [
    {
     "ename": "ModuleNotFoundError",
     "evalue": "No module named 'pandas'",
     "output_type": "error",
     "traceback": [
      "\u001b[31m---------------------------------------------------------------------------\u001b[39m",
      "\u001b[31mModuleNotFoundError\u001b[39m                       Traceback (most recent call last)",
      "\u001b[36mCell\u001b[39m\u001b[36m \u001b[39m\u001b[32mIn[5]\u001b[39m\u001b[32m, line 1\u001b[39m\n\u001b[32m----> \u001b[39m\u001b[32m1\u001b[39m \u001b[38;5;28;01mfrom\u001b[39;00m\u001b[38;5;250m \u001b[39m\u001b[34;01measy_models\u001b[39;00m\u001b[38;5;250m \u001b[39m\u001b[38;5;28;01mimport\u001b[39;00m EasyRegressionModel, EasyNNClassifierModel\n\u001b[32m      2\u001b[39m easy_reg = EasyRegressionModel(\u001b[33m\"\u001b[39m\u001b[33mage_income_years_worked.csv\u001b[39m\u001b[33m\"\u001b[39m)\n\u001b[32m      3\u001b[39m easy_class= EasyNNClassifierModel(\u001b[33m\"\u001b[39m\u001b[33mage_income_years_worked.csv\u001b[39m\u001b[33m\"\u001b[39m)\n",
      "\u001b[36mFile \u001b[39m\u001b[32mc:\\Users\\zb200\\Documents\\GitHub\\AI_SoSe_25\\zaka\\Exercise01\\resources\\easy_models.py:1\u001b[39m\n\u001b[32m----> \u001b[39m\u001b[32m1\u001b[39m \u001b[38;5;28;01mimport\u001b[39;00m\u001b[38;5;250m \u001b[39m\u001b[34;01mpandas\u001b[39;00m\u001b[38;5;250m \u001b[39m\u001b[38;5;28;01mas\u001b[39;00m\u001b[38;5;250m \u001b[39m\u001b[34;01mpd\u001b[39;00m\n\u001b[32m      2\u001b[39m \u001b[38;5;28;01mimport\u001b[39;00m\u001b[38;5;250m \u001b[39m\u001b[34;01mmatplotlib\u001b[39;00m\u001b[34;01m.\u001b[39;00m\u001b[34;01mpyplot\u001b[39;00m\u001b[38;5;250m \u001b[39m\u001b[38;5;28;01mas\u001b[39;00m\u001b[38;5;250m \u001b[39m\u001b[34;01mplt\u001b[39;00m\n\u001b[32m      3\u001b[39m \u001b[38;5;28;01mfrom\u001b[39;00m\u001b[38;5;250m \u001b[39m\u001b[34;01msklearn\u001b[39;00m\u001b[34;01m.\u001b[39;00m\u001b[34;01mmodel_selection\u001b[39;00m\u001b[38;5;250m \u001b[39m\u001b[38;5;28;01mimport\u001b[39;00m train_test_split\n",
      "\u001b[31mModuleNotFoundError\u001b[39m: No module named 'pandas'"
     ]
    }
   ],
   "source": [
    "from easy_models import EasyRegressionModel, EasyNNClassifierModel\n",
    "easy_reg = EasyRegressionModel(\"age_income_years_worked.csv\")\n",
    "easy_class= EasyNNClassifierModel(\"age_income_years_worked.csv\")"
   ]
  },
  {
   "cell_type": "code",
   "execution_count": null,
   "id": "8e8daf5a79eb38f7",
   "metadata": {
    "ExecuteTime": {
     "end_time": "2025-04-04T07:23:00.592293Z",
     "start_time": "2025-04-04T07:19:14.119502Z"
    }
   },
   "outputs": [],
   "source": [
    "##Regression\n",
    "#Use limit_test(N) to limit the test sample size max.20000\n",
    "#Use predict()\n",
    "#Use plot() to plot the regression\n",
    "#Use calculate_mse() to get the trained and tested mean square errors\n",
    "#For troubleshooting reasons we recommend rerunning the cell above.\n",
    "\n",
    "#Your Code here"
   ]
  },
  {
   "cell_type": "code",
   "execution_count": null,
   "id": "588fac58d66a80ad",
   "metadata": {
    "ExecuteTime": {
     "end_time": "2025-04-04T07:23:00.592980Z",
     "start_time": "2025-04-04T07:19:29.558029Z"
    }
   },
   "outputs": [],
   "source": [
    "## Classifier\n",
    "#Use limit_test(N) to limit the test sample size max.20000\n",
    "#Use train() to train the model\n",
    "#Use calculate_error_ratio()\n",
    "#For troubleshooting reasons we recommend rerunning the first cell of this exercise.\n",
    "\n",
    "#Your Code here"
   ]
  },
  {
   "cell_type": "markdown",
   "id": "d0ffb7fe6a642fb3",
   "metadata": {},
   "source": [
    "### b) Take note of the change in accuracy of the models."
   ]
  },
  {
   "cell_type": "markdown",
   "id": "5a2d90f27123471f",
   "metadata": {},
   "source": [
    "The error ratio for foreign data decreases with increasing sample size."
   ]
  },
  {
   "cell_type": "markdown",
   "id": "7d4ec3c52a3c40b9",
   "metadata": {},
   "source": [
    "# Exercise 3\n",
    "## $$ E_{out}(h) \\leq E_{in}(h) + \\sqrt{\\frac{8}{N} \\log \\frac{4 m_H(2N)}{\\delta}} $$\n",
    "\n",
    "### Find an n for which $E_{out}$ is within 10%, 5% and 1% of $E_{in}$ with the provided growth function. Assume that $E_{in}$ has a probability of 3%.\n",
    "### The provided growth_function : 3x³ + 2x² + 4\n"
   ]
  },
  {
   "cell_type": "code",
   "execution_count": null,
   "id": "e45a5fb9340a9a5c",
   "metadata": {
    "ExecuteTime": {
     "end_time": "2025-04-04T07:23:00.595919Z",
     "start_time": "2025-04-04T07:19:56.627511Z"
    }
   },
   "outputs": [],
   "source": [
    "# Your Code here"
   ]
  },
  {
   "cell_type": "markdown",
   "id": "2282b80dd597a30d",
   "metadata": {},
   "source": [
    "# Exercise 4\n",
    "### Calculate a confusion matrix for the classifier that you've used in exercise 2."
   ]
  },
  {
   "cell_type": "code",
   "execution_count": null,
   "id": "90b803ed6f6ed704",
   "metadata": {
    "ExecuteTime": {
     "end_time": "2025-04-04T07:23:00.596326Z",
     "start_time": "2025-04-04T07:20:05.573117Z"
    }
   },
   "outputs": [],
   "source": [
    "# Your Code here\n",
    "# Use predict_test() for predicted values and actual values"
   ]
  },
  {
   "cell_type": "markdown",
   "id": "d7d3d144b465cb07",
   "metadata": {},
   "source": [
    "# Exercise 5\n",
    "### Research characteristic traits of the different Machine Learning concepts mentioned in the lecture."
   ]
  },
  {
   "cell_type": "markdown",
   "id": "71634d946f6d3abb",
   "metadata": {},
   "source": [
    "# Exercise 6\n",
    "### a) Note down 3 different everyday examples of \"AI\" and assign them to a node of the graph from the lecture.\n",
    "### b) Also note down the kind of input data."
   ]
  }
 ],
 "metadata": {
  "kernelspec": {
   "display_name": "Python 3",
   "language": "python",
   "name": "python3"
  },
  "language_info": {
   "codemirror_mode": {
    "name": "ipython",
    "version": 3
   },
   "file_extension": ".py",
   "mimetype": "text/x-python",
   "name": "python",
   "nbconvert_exporter": "python",
   "pygments_lexer": "ipython3",
   "version": "3.11.4"
  }
 },
 "nbformat": 5,
 "nbformat_minor": 9
}
